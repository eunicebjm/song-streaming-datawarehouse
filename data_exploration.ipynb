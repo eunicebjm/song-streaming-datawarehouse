{
 "cells": [
  {
   "cell_type": "code",
   "execution_count": null,
   "metadata": {},
   "outputs": [],
   "source": [
    "import pandas as pd\n",
    "import json"
   ]
  },
  {
   "cell_type": "code",
   "execution_count": 10,
   "metadata": {},
   "outputs": [],
   "source": [
    "# set random json from each dataset\n",
    "log_json_path = \"/home/workspace/data/log_data/2018/11/2018-11-02-events.json\"\n",
    "song_json_path = \"/home/workspace/data/song_data/A/A/A/TRAAAMO128F1481E7F.json\""
   ]
  },
  {
   "cell_type": "code",
   "execution_count": 3,
   "metadata": {},
   "outputs": [
    {
     "data": {
      "text/html": [
       "<div>\n",
       "<style scoped>\n",
       "    .dataframe tbody tr th:only-of-type {\n",
       "        vertical-align: middle;\n",
       "    }\n",
       "\n",
       "    .dataframe tbody tr th {\n",
       "        vertical-align: top;\n",
       "    }\n",
       "\n",
       "    .dataframe thead th {\n",
       "        text-align: right;\n",
       "    }\n",
       "</style>\n",
       "<table border=\"1\" class=\"dataframe\">\n",
       "  <thead>\n",
       "    <tr style=\"text-align: right;\">\n",
       "      <th></th>\n",
       "      <th>artist</th>\n",
       "      <th>auth</th>\n",
       "      <th>firstName</th>\n",
       "      <th>gender</th>\n",
       "      <th>itemInSession</th>\n",
       "      <th>lastName</th>\n",
       "      <th>length</th>\n",
       "      <th>level</th>\n",
       "      <th>location</th>\n",
       "      <th>method</th>\n",
       "      <th>page</th>\n",
       "      <th>registration</th>\n",
       "      <th>sessionId</th>\n",
       "      <th>song</th>\n",
       "      <th>status</th>\n",
       "      <th>ts</th>\n",
       "      <th>userAgent</th>\n",
       "      <th>userId</th>\n",
       "    </tr>\n",
       "  </thead>\n",
       "  <tbody>\n",
       "    <tr>\n",
       "      <th>0</th>\n",
       "      <td>N.E.R.D. FEATURING MALICE</td>\n",
       "      <td>Logged In</td>\n",
       "      <td>Jayden</td>\n",
       "      <td>M</td>\n",
       "      <td>0</td>\n",
       "      <td>Fox</td>\n",
       "      <td>288.99220</td>\n",
       "      <td>free</td>\n",
       "      <td>New Orleans-Metairie, LA</td>\n",
       "      <td>PUT</td>\n",
       "      <td>NextSong</td>\n",
       "      <td>1541033612796</td>\n",
       "      <td>184</td>\n",
       "      <td>Am I High (Feat. Malice)</td>\n",
       "      <td>200</td>\n",
       "      <td>1541121934796</td>\n",
       "      <td>\"Mozilla/5.0 (Windows NT 6.3; WOW64) AppleWebK...</td>\n",
       "      <td>101</td>\n",
       "    </tr>\n",
       "    <tr>\n",
       "      <th>1</th>\n",
       "      <td>None</td>\n",
       "      <td>Logged In</td>\n",
       "      <td>Stefany</td>\n",
       "      <td>F</td>\n",
       "      <td>0</td>\n",
       "      <td>White</td>\n",
       "      <td>NaN</td>\n",
       "      <td>free</td>\n",
       "      <td>Lubbock, TX</td>\n",
       "      <td>GET</td>\n",
       "      <td>Home</td>\n",
       "      <td>1540708070796</td>\n",
       "      <td>82</td>\n",
       "      <td>None</td>\n",
       "      <td>200</td>\n",
       "      <td>1541122176796</td>\n",
       "      <td>\"Mozilla/5.0 (Macintosh; Intel Mac OS X 10_9_4...</td>\n",
       "      <td>83</td>\n",
       "    </tr>\n",
       "    <tr>\n",
       "      <th>2</th>\n",
       "      <td>Death Cab for Cutie</td>\n",
       "      <td>Logged In</td>\n",
       "      <td>Stefany</td>\n",
       "      <td>F</td>\n",
       "      <td>1</td>\n",
       "      <td>White</td>\n",
       "      <td>216.42404</td>\n",
       "      <td>free</td>\n",
       "      <td>Lubbock, TX</td>\n",
       "      <td>PUT</td>\n",
       "      <td>NextSong</td>\n",
       "      <td>1540708070796</td>\n",
       "      <td>82</td>\n",
       "      <td>A Lack Of Color (Album Version)</td>\n",
       "      <td>200</td>\n",
       "      <td>1541122241796</td>\n",
       "      <td>\"Mozilla/5.0 (Macintosh; Intel Mac OS X 10_9_4...</td>\n",
       "      <td>83</td>\n",
       "    </tr>\n",
       "    <tr>\n",
       "      <th>3</th>\n",
       "      <td>Tracy Gang Pussy</td>\n",
       "      <td>Logged In</td>\n",
       "      <td>Stefany</td>\n",
       "      <td>F</td>\n",
       "      <td>2</td>\n",
       "      <td>White</td>\n",
       "      <td>221.33506</td>\n",
       "      <td>free</td>\n",
       "      <td>Lubbock, TX</td>\n",
       "      <td>PUT</td>\n",
       "      <td>NextSong</td>\n",
       "      <td>1540708070796</td>\n",
       "      <td>82</td>\n",
       "      <td>I Have A Wish</td>\n",
       "      <td>200</td>\n",
       "      <td>1541122457796</td>\n",
       "      <td>\"Mozilla/5.0 (Macintosh; Intel Mac OS X 10_9_4...</td>\n",
       "      <td>83</td>\n",
       "    </tr>\n",
       "    <tr>\n",
       "      <th>4</th>\n",
       "      <td>Skillet</td>\n",
       "      <td>Logged In</td>\n",
       "      <td>Kevin</td>\n",
       "      <td>M</td>\n",
       "      <td>0</td>\n",
       "      <td>Arellano</td>\n",
       "      <td>178.02404</td>\n",
       "      <td>free</td>\n",
       "      <td>Harrisburg-Carlisle, PA</td>\n",
       "      <td>PUT</td>\n",
       "      <td>NextSong</td>\n",
       "      <td>1540006905796</td>\n",
       "      <td>153</td>\n",
       "      <td>Monster (Album Version)</td>\n",
       "      <td>200</td>\n",
       "      <td>1541126568796</td>\n",
       "      <td>\"Mozilla/5.0 (Macintosh; Intel Mac OS X 10_9_4...</td>\n",
       "      <td>66</td>\n",
       "    </tr>\n",
       "    <tr>\n",
       "      <th>5</th>\n",
       "      <td>Dance Gavin Dance</td>\n",
       "      <td>Logged In</td>\n",
       "      <td>Marina</td>\n",
       "      <td>F</td>\n",
       "      <td>0</td>\n",
       "      <td>Sutton</td>\n",
       "      <td>218.46159</td>\n",
       "      <td>free</td>\n",
       "      <td>Salinas, CA</td>\n",
       "      <td>PUT</td>\n",
       "      <td>NextSong</td>\n",
       "      <td>1541064343796</td>\n",
       "      <td>47</td>\n",
       "      <td>Uneasy Hearts Weigh The Most</td>\n",
       "      <td>200</td>\n",
       "      <td>1541127957796</td>\n",
       "      <td>\"Mozilla/5.0 (Macintosh; Intel Mac OS X 10_9_4...</td>\n",
       "      <td>48</td>\n",
       "    </tr>\n",
       "    <tr>\n",
       "      <th>6</th>\n",
       "      <td>None</td>\n",
       "      <td>Logged In</td>\n",
       "      <td>Aiden</td>\n",
       "      <td>M</td>\n",
       "      <td>0</td>\n",
       "      <td>Hess</td>\n",
       "      <td>NaN</td>\n",
       "      <td>free</td>\n",
       "      <td>La Crosse-Onalaska, WI-MN</td>\n",
       "      <td>GET</td>\n",
       "      <td>Home</td>\n",
       "      <td>1540829025796</td>\n",
       "      <td>170</td>\n",
       "      <td>None</td>\n",
       "      <td>200</td>\n",
       "      <td>1541129561796</td>\n",
       "      <td>\"Mozilla/5.0 (Macintosh; Intel Mac OS X 10_9_4...</td>\n",
       "      <td>86</td>\n",
       "    </tr>\n",
       "  </tbody>\n",
       "</table>\n",
       "</div>"
      ],
      "text/plain": [
       "                      artist       auth firstName gender  itemInSession  \\\n",
       "0  N.E.R.D. FEATURING MALICE  Logged In    Jayden      M              0   \n",
       "1                       None  Logged In   Stefany      F              0   \n",
       "2        Death Cab for Cutie  Logged In   Stefany      F              1   \n",
       "3           Tracy Gang Pussy  Logged In   Stefany      F              2   \n",
       "4                    Skillet  Logged In     Kevin      M              0   \n",
       "5          Dance Gavin Dance  Logged In    Marina      F              0   \n",
       "6                       None  Logged In     Aiden      M              0   \n",
       "\n",
       "   lastName     length level                   location method      page  \\\n",
       "0       Fox  288.99220  free   New Orleans-Metairie, LA    PUT  NextSong   \n",
       "1     White        NaN  free                Lubbock, TX    GET      Home   \n",
       "2     White  216.42404  free                Lubbock, TX    PUT  NextSong   \n",
       "3     White  221.33506  free                Lubbock, TX    PUT  NextSong   \n",
       "4  Arellano  178.02404  free    Harrisburg-Carlisle, PA    PUT  NextSong   \n",
       "5    Sutton  218.46159  free                Salinas, CA    PUT  NextSong   \n",
       "6      Hess        NaN  free  La Crosse-Onalaska, WI-MN    GET      Home   \n",
       "\n",
       "    registration  sessionId                             song  status  \\\n",
       "0  1541033612796        184         Am I High (Feat. Malice)     200   \n",
       "1  1540708070796         82                             None     200   \n",
       "2  1540708070796         82  A Lack Of Color (Album Version)     200   \n",
       "3  1540708070796         82                    I Have A Wish     200   \n",
       "4  1540006905796        153          Monster (Album Version)     200   \n",
       "5  1541064343796         47     Uneasy Hearts Weigh The Most     200   \n",
       "6  1540829025796        170                             None     200   \n",
       "\n",
       "              ts                                          userAgent  userId  \n",
       "0  1541121934796  \"Mozilla/5.0 (Windows NT 6.3; WOW64) AppleWebK...     101  \n",
       "1  1541122176796  \"Mozilla/5.0 (Macintosh; Intel Mac OS X 10_9_4...      83  \n",
       "2  1541122241796  \"Mozilla/5.0 (Macintosh; Intel Mac OS X 10_9_4...      83  \n",
       "3  1541122457796  \"Mozilla/5.0 (Macintosh; Intel Mac OS X 10_9_4...      83  \n",
       "4  1541126568796  \"Mozilla/5.0 (Macintosh; Intel Mac OS X 10_9_4...      66  \n",
       "5  1541127957796  \"Mozilla/5.0 (Macintosh; Intel Mac OS X 10_9_4...      48  \n",
       "6  1541129561796  \"Mozilla/5.0 (Macintosh; Intel Mac OS X 10_9_4...      86  "
      ]
     },
     "execution_count": 3,
     "metadata": {},
     "output_type": "execute_result"
    }
   ],
   "source": [
    "#check log json\n",
    "log_df = pd.read_json(log_json_path, lines=True)\n",
    "log_df.head(7)"
   ]
  },
  {
   "cell_type": "code",
   "execution_count": 4,
   "metadata": {},
   "outputs": [
    {
     "name": "stdout",
     "output_type": "stream",
     "text": [
      "Shape\n",
      ">> (171, 18)\n",
      "\n",
      "Columns\n",
      ">> Index(['artist', 'auth', 'firstName', 'gender', 'itemInSession', 'lastName',\n",
      "       'length', 'level', 'location', 'method', 'page', 'registration',\n",
      "       'sessionId', 'song', 'status', 'ts', 'userAgent', 'userId'],\n",
      "      dtype='object')\n"
     ]
    }
   ],
   "source": [
    "#print stats\n",
    "print (\"Shape\\n>>\", log_df.shape)\n",
    "print (\"\\nColumns\\n>>\",log_df.columns)"
   ]
  },
  {
   "cell_type": "code",
   "execution_count": 5,
   "metadata": {},
   "outputs": [
    {
     "data": {
      "text/plain": [
       "artist            object\n",
       "auth              object\n",
       "firstName         object\n",
       "gender            object\n",
       "itemInSession      int64\n",
       "lastName          object\n",
       "length           float64\n",
       "level             object\n",
       "location          object\n",
       "method            object\n",
       "page              object\n",
       "registration       int64\n",
       "sessionId          int64\n",
       "song              object\n",
       "status             int64\n",
       "ts                 int64\n",
       "userAgent         object\n",
       "userId             int64\n",
       "dtype: object"
      ]
     },
     "execution_count": 5,
     "metadata": {},
     "output_type": "execute_result"
    }
   ],
   "source": [
    "log_df.dtypes"
   ]
  },
  {
   "cell_type": "code",
   "execution_count": 6,
   "metadata": {},
   "outputs": [
    {
     "data": {
      "text/plain": [
       "22"
      ]
     },
     "execution_count": 6,
     "metadata": {},
     "output_type": "execute_result"
    }
   ],
   "source": [
    "log_df.registration.nunique()"
   ]
  },
  {
   "cell_type": "code",
   "execution_count": 6,
   "metadata": {},
   "outputs": [
    {
     "name": "stdout",
     "output_type": "stream",
     "text": [
      "Logged In    171\n",
      "Name: auth, dtype: int64 \n",
      "\n",
      "paid    92\n",
      "free    79\n",
      "Name: level, dtype: int64 \n",
      "\n",
      "NextSong         155\n",
      "Home              12\n",
      "Settings           1\n",
      "Upgrade            1\n",
      "Downgrade          1\n",
      "Save Settings      1\n",
      "Name: page, dtype: int64 \n",
      "\n",
      "paid    92\n",
      "free    79\n",
      "Name: level, dtype: int64 \n",
      "\n",
      "F    122\n",
      "M     49\n",
      "Name: gender, dtype: int64 \n",
      "\n"
     ]
    }
   ],
   "source": [
    "#value counts\n",
    "print (log_df.auth.value_counts(), \"\\n\")\n",
    "print (log_df.level.value_counts(), \"\\n\")\n",
    "print (log_df.page.value_counts(), \"\\n\")\n",
    "print (log_df.level.value_counts(), \"\\n\")\n",
    "print (log_df.gender.value_counts(), \"\\n\")"
   ]
  },
  {
   "cell_type": "code",
   "execution_count": 11,
   "metadata": {},
   "outputs": [
    {
     "data": {
      "text/html": [
       "<div>\n",
       "<style scoped>\n",
       "    .dataframe tbody tr th:only-of-type {\n",
       "        vertical-align: middle;\n",
       "    }\n",
       "\n",
       "    .dataframe tbody tr th {\n",
       "        vertical-align: top;\n",
       "    }\n",
       "\n",
       "    .dataframe thead th {\n",
       "        text-align: right;\n",
       "    }\n",
       "</style>\n",
       "<table border=\"1\" class=\"dataframe\">\n",
       "  <thead>\n",
       "    <tr style=\"text-align: right;\">\n",
       "      <th></th>\n",
       "      <th>artist_id</th>\n",
       "      <th>artist_latitude</th>\n",
       "      <th>artist_location</th>\n",
       "      <th>artist_longitude</th>\n",
       "      <th>artist_name</th>\n",
       "      <th>duration</th>\n",
       "      <th>num_songs</th>\n",
       "      <th>song_id</th>\n",
       "      <th>title</th>\n",
       "      <th>year</th>\n",
       "    </tr>\n",
       "  </thead>\n",
       "  <tbody>\n",
       "    <tr>\n",
       "      <th>0</th>\n",
       "      <td>ARKFYS91187B98E58F</td>\n",
       "      <td>NaN</td>\n",
       "      <td></td>\n",
       "      <td>NaN</td>\n",
       "      <td>Jeff And Sheri Easter</td>\n",
       "      <td>267.7024</td>\n",
       "      <td>1</td>\n",
       "      <td>SOYMRWW12A6D4FAB14</td>\n",
       "      <td>The Moon And I (Ordinary Day Album Version)</td>\n",
       "      <td>0</td>\n",
       "    </tr>\n",
       "  </tbody>\n",
       "</table>\n",
       "</div>"
      ],
      "text/plain": [
       "            artist_id  artist_latitude artist_location  artist_longitude  \\\n",
       "0  ARKFYS91187B98E58F              NaN                               NaN   \n",
       "\n",
       "             artist_name  duration  num_songs             song_id  \\\n",
       "0  Jeff And Sheri Easter  267.7024          1  SOYMRWW12A6D4FAB14   \n",
       "\n",
       "                                         title  year  \n",
       "0  The Moon And I (Ordinary Day Album Version)     0  "
      ]
     },
     "execution_count": 11,
     "metadata": {},
     "output_type": "execute_result"
    }
   ],
   "source": [
    "#check song json\n",
    "song_df = pd.read_json(song_json_path, lines=True)\n",
    "song_df"
   ]
  },
  {
   "cell_type": "code",
   "execution_count": 15,
   "metadata": {},
   "outputs": [
    {
     "data": {
      "text/plain": [
       "['SOYMRWW12A6D4FAB14',\n",
       " 'The Moon And I (Ordinary Day Album Version)',\n",
       " 'ARKFYS91187B98E58F',\n",
       " 0,\n",
       " 267.7024]"
      ]
     },
     "execution_count": 15,
     "metadata": {},
     "output_type": "execute_result"
    }
   ],
   "source": [
    "song_df[[\"song_id\",\"title\",\"artist_id\",\"year\",\"duration\"]].values[0].tolist()"
   ]
  },
  {
   "cell_type": "code",
   "execution_count": 16,
   "metadata": {},
   "outputs": [
    {
     "data": {
      "text/plain": [
       "['ARKFYS91187B98E58F', 'Jeff And Sheri Easter', '', nan, nan]"
      ]
     },
     "execution_count": 16,
     "metadata": {},
     "output_type": "execute_result"
    }
   ],
   "source": [
    "song_df[[\"artist_id\",\"artist_name\",\"artist_location\",\\\n",
    "                      \"artist_latitude\",\"artist_longitude\"]].values[0].tolist()"
   ]
  },
  {
   "cell_type": "code",
   "execution_count": 9,
   "metadata": {},
   "outputs": [
    {
     "name": "stdout",
     "output_type": "stream",
     "text": [
      "Shape\n",
      ">> (1, 10)\n",
      "\n",
      "Columns\n",
      ">> Index(['artist_id', 'artist_latitude', 'artist_location', 'artist_longitude',\n",
      "       'artist_name', 'duration', 'num_songs', 'song_id', 'title', 'year'],\n",
      "      dtype='object')\n"
     ]
    }
   ],
   "source": [
    "#print stats\n",
    "print (\"Shape\\n>>\", song_df.shape)\n",
    "print (\"\\nColumns\\n>>\",song_df.columns)"
   ]
  },
  {
   "cell_type": "code",
   "execution_count": 15,
   "metadata": {},
   "outputs": [
    {
     "data": {
      "text/plain": [
       "artist_id            object\n",
       "artist_latitude     float64\n",
       "artist_location      object\n",
       "artist_longitude    float64\n",
       "artist_name          object\n",
       "duration            float64\n",
       "num_songs             int64\n",
       "song_id              object\n",
       "title                object\n",
       "year                  int64\n",
       "dtype: object"
      ]
     },
     "execution_count": 15,
     "metadata": {},
     "output_type": "execute_result"
    }
   ],
   "source": [
    "song_df.dtypes"
   ]
  },
  {
   "cell_type": "code",
   "execution_count": null,
   "metadata": {},
   "outputs": [],
   "source": []
  }
 ],
 "metadata": {
  "kernelspec": {
   "display_name": "Python 3",
   "language": "python",
   "name": "python3"
  },
  "language_info": {
   "codemirror_mode": {
    "name": "ipython",
    "version": 3
   },
   "file_extension": ".py",
   "mimetype": "text/x-python",
   "name": "python",
   "nbconvert_exporter": "python",
   "pygments_lexer": "ipython3",
   "version": "3.6.3"
  }
 },
 "nbformat": 4,
 "nbformat_minor": 4
}
